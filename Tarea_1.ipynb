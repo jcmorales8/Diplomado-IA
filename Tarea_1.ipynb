{
  "nbformat": 4,
  "nbformat_minor": 0,
  "metadata": {
    "kernelspec": {
      "display_name": "Python 3",
      "language": "python",
      "name": "python3"
    },
    "language_info": {
      "codemirror_mode": {
        "name": "ipython",
        "version": 3
      },
      "file_extension": ".py",
      "mimetype": "text/x-python",
      "name": "python",
      "nbconvert_exporter": "python",
      "pygments_lexer": "ipython3",
      "version": "3.7.3"
    },
    "colab": {
      "name": "Tarea 1.ipynb",
      "provenance": [],
      "collapsed_sections": [],
      "toc_visible": true,
      "include_colab_link": true
    }
  },
  "cells": [
    {
      "cell_type": "markdown",
      "metadata": {
        "id": "view-in-github",
        "colab_type": "text"
      },
      "source": [
        "<a href=\"https://colab.research.google.com/github/jcmorales8/Diplomado-IA/blob/main/Tarea_1.ipynb\" target=\"_parent\"><img src=\"https://colab.research.google.com/assets/colab-badge.svg\" alt=\"Open In Colab\"/></a>"
      ]
    },
    {
      "cell_type": "markdown",
      "metadata": {
        "id": "YZH2dkPkxXGA"
      },
      "source": [
        "# Juan Carlos Morales \r\n",
        "###### Dilomado en IA UN"
      ]
    },
    {
      "cell_type": "markdown",
      "metadata": {
        "id": "z0PK1PuZ7zaY"
      },
      "source": [
        "# **Entendiendo Google Colaboratory**"
      ]
    },
    {
      "cell_type": "markdown",
      "metadata": {
        "id": "SomuFaeQ7zax"
      },
      "source": [
        "# **CPU**"
      ]
    },
    {
      "cell_type": "markdown",
      "metadata": {
        "id": "Psgu4pzQ7zaz"
      },
      "source": [
        "<div style=\"background-color: #EDF7FF; border-color: #7C9DBF; border-left: 5px solid #7C9DBF; padding: 0.5em;\">\n",
        "<strong>CPU:</strong>\n",
        "Estas siglas en ingles traducen <strong>Central Processing Unit</strong> o <strong>Unidad Central de Procesamiento</strong>, se conoce como la parte central de cualquier computadora sin importar cual sea, es la parte del computador que cumple con la misión de procesar todas las funciones y también sirve para el almacenamiento de la información. Funciona para diferentes tipos de aplicaciones, se pueden realizar funciones de navegación por internet, jugar video juegos o reproducir música. La desventaja es que se pueden realizar dichas tareas, pero la <strong>CPU</strong> no se encuentra optimizada para ninguna de ellas. La unidad que realizar las operaciones matemáticas en la CPU se llama ALU (Unidad Logíca Aritmética) que permite realizar sumas y multiplicaciones,  el problema con la ALU es que solo puede ejecutar una a la vez, esta no es funcional para desarrollar modelos de Deep Learning ya que para estos se realizan millones de operaciones matemáticas y la <strong>ALU</strong> realizaría una por una lo que hace muy lento el procesamiento.\n",
        "</div>\n",
        "    \n",
        "[Referencia](https://www.youtube.com/watch?v=0mOV4plF2Xo&t=284s)\n"
      ]
    },
    {
      "cell_type": "markdown",
      "metadata": {
        "id": "8XfQzRcX7za0"
      },
      "source": [
        "<figure>\n",
        "<center>\n",
        "<img src=\"https://i.pinimg.com/474x/fb/36/bd/fb36bd57701041f74479603556466775.jpg\" width=\"500\" height=\"380\" align=\"center\"/>\n",
        "</center>\n",
        "<figcaption>\n",
        "<p style=\"text-align:center\">CPU</p>\n",
        "</figcaption>\n",
        "</figure>\n",
        "\n",
        "[Fuente](https://www.partesdel.com/wp-content/uploads/partes-del-CPU.jpg)\n",
        "\n",
        "\n",
        "\n",
        "\n"
      ]
    },
    {
      "cell_type": "markdown",
      "metadata": {
        "id": "XSXsJdGif21_"
      },
      "source": [
        "# **GPU**"
      ]
    },
    {
      "cell_type": "markdown",
      "metadata": {
        "id": "T7LPbxKFf7ZJ"
      },
      "source": [
        "**GPU:** Estas siglas en ingles traducen <strong>Graphics Processing Unit</strong> o <strong>Unidad de procesamiento grafico</strong>, es utilizada principalmente por los desarrolladores de video juegos o por personas que realizan animaciones por computador, una GPU es más poderosa que una CPU, por que su arquitectura esta diseñada para procesar de manera eficiente datos más complejos como gráficos 2D, 3D y secuencias de video, la estrategia de la GPU es utilizar miles de ALU's (entre 2500 y 5000) que ejecuten multiplicaciones simultaneas o en paralelo. \r\n",
        "\r\n"
      ]
    },
    {
      "cell_type": "markdown",
      "metadata": {
        "id": "t5rDJ7_FmJ_p"
      },
      "source": [
        "<figure>\r\n",
        "<center>\r\n",
        "<img src=\"https://hardzone.es/app/uploads-hardzone.es/2020/06/GPU-Radeon-Pro-5600M.jpg\" width=\"500\" height=\"300\" align=\"center\"/>\r\n",
        "</center>\r\n",
        "<figcaption>\r\n",
        "<p style=\"text-align:center\">GPU</p>\r\n",
        "</figcaption>\r\n",
        "</figure>\r\n",
        "\r\n",
        "[Fuente](https://hardzone.es/reportajes/que-es/gpu-caracteristicas-especificaciones/)\r\n",
        "\r\n",
        "\r\n"
      ]
    },
    {
      "cell_type": "markdown",
      "metadata": {
        "id": "4I_af8KNf7qP"
      },
      "source": [
        "# **TPU**"
      ]
    },
    {
      "cell_type": "markdown",
      "metadata": {
        "id": "uRfegr9Rn4Zv"
      },
      "source": [
        "**TPU:** Estas siglas en ingles traducen <strong>Tensor Processing Unit</strong> o <strong>Unidad de Procesamiento Tensorial</strong>, es una arquitectura pensada específicamene para el desarrollo de modelos Deep Learning, y por tanto se está optimizada para realizar operaciones con matrices, es capaz de realizar en paralelo miles de multiplicaciones y sumas de manera simultanea y durante estas operaciones no necesita acceder a la memoria del computador en ningún momento, es por eso que una TPU es la arquitectura más potente que existe hasa el momento para desarrollar modelos de Deep Learning.\r\n",
        "\r\n",
        "[Referencia](https://cloud.google.com/tpu?hl=es-419)\r\n",
        "\r\n"
      ]
    },
    {
      "cell_type": "markdown",
      "metadata": {
        "id": "NZAAoL81n3YL"
      },
      "source": [
        "<figure>\r\n",
        "<center>\r\n",
        "<img src=\"https://cloud.google.com/images/products/tpu/try-the-demo.gif?hl=es-419\" width=\"500\" height=\"300\" align=\"center\"/>\r\n",
        "</center>\r\n",
        "<figcaption>\r\n",
        "<p style=\"text-align:center\">CPU</p>\r\n",
        "</figcaption>\r\n",
        "</figure>\r\n",
        "\r\n",
        "\r\n",
        "[Fuene imagen 1](https://cloud.google.com/images/products/tpu/try-the-demo.gif?hl=es-419)\r\n",
        "\r\n",
        "<figure>\r\n",
        "<center>\r\n",
        "<img src=\"https://cloud.google.com/images/products/tpu/google-cloud-ai.png?hl=es-419\" width=\"500\" height=\"300\" align=\"center\"/>\r\n",
        "</center>\r\n",
        "<figcaption>\r\n",
        "<p style=\"text-align:center\">CPU</p>\r\n",
        "</figcaption>\r\n",
        "</figure>\r\n",
        "\r\n",
        "\r\n",
        "\r\n",
        "[Fuente imagen 2](https://cloud.google.com/images/products/tpu/google-cloud-ai.png?hl=es-419)\r\n",
        "\r\n",
        "\r\n"
      ]
    }
  ]
}